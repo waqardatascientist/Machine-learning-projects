{
 "cells": [
  {
   "cell_type": "code",
   "execution_count": 3,
   "id": "4aa328fd-8aaa-412b-912f-340e78a47238",
   "metadata": {},
   "outputs": [],
   "source": [
    "import pandas as pd\n",
    "import numpy as np\n",
    "import matplotlib.pyplot as plt"
   ]
  },
  {
   "cell_type": "code",
   "execution_count": 5,
   "id": "cc94d7dc-8457-44c8-8310-fba868a1aede",
   "metadata": {},
   "outputs": [],
   "source": [
    "df=pd.read_csv(\"Social_Network_Adss.csv\")\n",
    "dff=pd.read_csv(\"titanic_dataset.csv\")"
   ]
  },
  {
   "cell_type": "code",
   "execution_count": 7,
   "id": "466a6003-afef-4a49-bde3-6004a09c87b7",
   "metadata": {},
   "outputs": [
    {
     "data": {
      "text/plain": [
       "PassengerId     0.000000\n",
       "Survived        0.000000\n",
       "Pclass          0.000000\n",
       "Name            0.000000\n",
       "Sex             0.000000\n",
       "Age            19.865320\n",
       "SibSp           0.000000\n",
       "Parch           0.000000\n",
       "Ticket          0.000000\n",
       "Fare            0.000000\n",
       "Cabin          77.104377\n",
       "Embarked        0.224467\n",
       "dtype: float64"
      ]
     },
     "execution_count": 7,
     "metadata": {},
     "output_type": "execute_result"
    }
   ],
   "source": [
    "dff.isnull().mean()*100"
   ]
  },
  {
   "cell_type": "code",
   "execution_count": 23,
   "id": "2940c738-bd99-4e1f-b01d-4e576122eb02",
   "metadata": {},
   "outputs": [],
   "source": [
    "#we can get the missing values that is less then 5%\n",
    "cols = [var for var in dff.columns if dff[var].isnull().mean() < 0.05 and dff[var].isnull().mean() > 0]\n"
   ]
  },
  {
   "cell_type": "code",
   "execution_count": 35,
   "id": "2b1f8e9a-b8f7-4cad-816b-4ece3a4c53bb",
   "metadata": {},
   "outputs": [
    {
     "data": {
      "text/plain": [
       "(891,)"
      ]
     },
     "execution_count": 35,
     "metadata": {},
     "output_type": "execute_result"
    }
   ],
   "source": [
    "dff['Embarked'].shape"
   ]
  },
  {
   "cell_type": "code",
   "execution_count": 37,
   "id": "1a67fde4-1142-40a1-9543-55ec938143e2",
   "metadata": {},
   "outputs": [
    {
     "data": {
      "text/plain": [
       "99.77553310886644"
      ]
     },
     "execution_count": 37,
     "metadata": {},
     "output_type": "execute_result"
    }
   ],
   "source": [
    "len(dff[cols].dropna())/len(dff)*100"
   ]
  },
  {
   "cell_type": "code",
   "execution_count": null,
   "id": "744c69e0-de27-4d5c-977f-2afcda803c58",
   "metadata": {},
   "outputs": [],
   "source": []
  },
  {
   "cell_type": "code",
   "execution_count": 27,
   "id": "5cfef621-a2e4-4861-9a32-a02c9f1efde5",
   "metadata": {},
   "outputs": [],
   "source": [
    "new_dff=dff[cols].dropna()"
   ]
  },
  {
   "cell_type": "code",
   "execution_count": 31,
   "id": "1845d73d-0b2d-479b-8e13-b305165cb860",
   "metadata": {},
   "outputs": [
    {
     "data": {
      "text/plain": [
       "(889, 1)"
      ]
     },
     "execution_count": 31,
     "metadata": {},
     "output_type": "execute_result"
    }
   ],
   "source": [
    "new_dff.shape"
   ]
  },
  {
   "cell_type": "code",
   "execution_count": null,
   "id": "8cf910fd-32d8-4683-9cb8-332c8db01b7f",
   "metadata": {},
   "outputs": [],
   "source": []
  }
 ],
 "metadata": {
  "kernelspec": {
   "display_name": "Python 3 (ipykernel)",
   "language": "python",
   "name": "python3"
  },
  "language_info": {
   "codemirror_mode": {
    "name": "ipython",
    "version": 3
   },
   "file_extension": ".py",
   "mimetype": "text/x-python",
   "name": "python",
   "nbconvert_exporter": "python",
   "pygments_lexer": "ipython3",
   "version": "3.11.5"
  }
 },
 "nbformat": 4,
 "nbformat_minor": 5
}
